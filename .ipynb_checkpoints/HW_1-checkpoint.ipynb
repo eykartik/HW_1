{
 "cells": [
  {
   "cell_type": "code",
   "execution_count": 1,
   "id": "55590351",
   "metadata": {},
   "outputs": [],
   "source": [
    "from scipy.optimize import minimize\n",
    "fun = lambda x: (x[0] - x[1])**2 + (x[1] + x[2] - 2)**2 + (x[3] - 1)**2 + (x[4] - 1)**2\n",
    "cons = ({'type': 'eq', 'fun': lambda x:  x[0] + 3*x[1]},\n",
    "        {'type': 'eq', 'fun': lambda x:  x[2] + x[3] - 2*x[4]},\n",
    "        {'type': 'eq', 'fun': lambda x:  x[1] - x[4]})\n",
    "bnds = ((-10,10), (-10,10), (-10,10), (-10,10), (-10,10))\n",
    "res = minimize(fun, (1,1,1,1,1), method='SLSQP', bounds=bnds, constraints=cons)"
   ]
  },
  {
   "cell_type": "code",
   "execution_count": 2,
   "id": "be26791d",
   "metadata": {},
   "outputs": [
    {
     "data": {
      "text/plain": [
       "     fun: 4.09302326452976\n",
       "     jac: array([-2.04664832, -0.18578869, -2.23243701, -2.23257673, -1.48833793])\n",
       " message: 'Optimization terminated successfully'\n",
       "    nfev: 38\n",
       "     nit: 6\n",
       "    njev: 6\n",
       "  status: 0\n",
       " success: True\n",
       "       x: array([-0.76749312,  0.25583104,  0.62795044, -0.11628835,  0.25583104])"
      ]
     },
     "execution_count": 2,
     "metadata": {},
     "output_type": "execute_result"
    }
   ],
   "source": [
    "res"
   ]
  },
  {
   "cell_type": "markdown",
   "id": "caee6130",
   "metadata": {},
   "source": [
    "Markdown Solutions\n",
    "\n",
    "function value : 4.09302326452976\n",
    "\n",
    "jac: array([-2.04664832, -0.18578869, -2.23243701, -2.23257673, -1.48833793])\n",
    "     \n",
    "x: array([-0.76749312,  0.25583104,  0.62795044, -0.11628835,  0.25583104])"
   ]
  },
  {
   "cell_type": "code",
   "execution_count": null,
   "id": "b10e0161",
   "metadata": {},
   "outputs": [],
   "source": []
  }
 ],
 "metadata": {
  "kernelspec": {
   "display_name": "Python 3",
   "language": "python",
   "name": "python3"
  },
  "language_info": {
   "codemirror_mode": {
    "name": "ipython",
    "version": 3
   },
   "file_extension": ".py",
   "mimetype": "text/x-python",
   "name": "python",
   "nbconvert_exporter": "python",
   "pygments_lexer": "ipython3",
   "version": "3.8.8"
  }
 },
 "nbformat": 4,
 "nbformat_minor": 5
}
